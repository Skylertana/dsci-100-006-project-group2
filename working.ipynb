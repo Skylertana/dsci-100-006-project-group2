{
 "cells": [
  {
   "cell_type": "code",
   "execution_count": 1,
   "id": "475e11ef-36fe-486a-b974-0e365a24c7b5",
   "metadata": {},
   "outputs": [],
   "source": [
    "#local repository\n"
   ]
  },
  {
   "cell_type": "code",
   "execution_count": null,
   "id": "3eeb9ea8-6c5b-422d-a57f-efd1a410f090",
   "metadata": {},
   "outputs": [],
   "source": []
  }
 ],
 "metadata": {
  "kernelspec": {
   "display_name": "R",
   "language": "R",
   "name": "ir"
  },
  "language_info": {
   "codemirror_mode": "r",
   "file_extension": ".r",
   "mimetype": "text/x-r-source",
   "name": "R",
   "pygments_lexer": "r",
   "version": "4.3.1"
  }
 },
 "nbformat": 4,
 "nbformat_minor": 5
}
