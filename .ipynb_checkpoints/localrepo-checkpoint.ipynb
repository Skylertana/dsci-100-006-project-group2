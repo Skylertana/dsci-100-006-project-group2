{
 "cells": [
  {
   "cell_type": "code",
   "execution_count": 1,
   "id": "5d5f58ec-b588-422a-8c47-e9dfa5d3220a",
   "metadata": {},
   "outputs": [],
   "source": [
    "#test\n",
    "#test "
   ]
  }
 ],
 "metadata": {
  "kernelspec": {
   "display_name": "R",
   "language": "R",
   "name": "ir"
  },
  "language_info": {
   "codemirror_mode": "r",
   "file_extension": ".r",
   "mimetype": "text/x-r-source",
   "name": "R",
   "pygments_lexer": "r",
   "version": "4.3.1"
  }
 },
 "nbformat": 4,
 "nbformat_minor": 5
}
