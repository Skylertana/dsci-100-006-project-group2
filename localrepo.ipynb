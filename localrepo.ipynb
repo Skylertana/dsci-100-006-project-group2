{
 "cells": [
  {
   "cell_type": "code",
   "execution_count": 1,
   "id": "5d5f58ec-b588-422a-8c47-e9dfa5d3220a",
   "metadata": {},
   "outputs": [],
   "source": [
    "#test"
   ]
  }
 ],
 "metadata": {
  "kernelspec": {
   "display_name": "",
   "name": ""
  },
  "language_info": {
   "name": ""
  }
 },
 "nbformat": 4,
 "nbformat_minor": 5
}
