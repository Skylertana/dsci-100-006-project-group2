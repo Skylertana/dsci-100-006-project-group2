{
 "cells": [
  {
   "cell_type": "code",
   "execution_count": 2,
   "id": "cb668113-2a7b-4dbc-80b8-1664f697a788",
   "metadata": {},
   "outputs": [],
   "source": [
    "#title"
   ]
  },
  {
   "cell_type": "code",
   "execution_count": null,
   "id": "bb319da3-e8bb-48a7-972f-5fddf03c0663",
   "metadata": {},
   "outputs": [],
   "source": []
  }
 ],
 "metadata": {
  "kernelspec": {
   "display_name": "R",
   "language": "R",
   "name": "ir"
  },
  "language_info": {
   "codemirror_mode": "r",
   "file_extension": ".r",
   "mimetype": "text/x-r-source",
   "name": "R",
   "pygments_lexer": "r",
   "version": "4.3.1"
  }
 },
 "nbformat": 4,
 "nbformat_minor": 5
}
