{
 "cells": [
  {
   "cell_type": "code",
   "execution_count": 3,
   "id": "6a4ccea9",
   "metadata": {},
   "outputs": [],
   "source": [
    "#Title: \n",
    "#What is the sex of an individual who is diagnosed with heart disease predicted by …. Symptoms?\n",
    "\n",
    "\n",
    "#Intro:\n",
    "#-describe heart disease\n",
    "#-background info\n",
    "#-gender difference\n",
    "\n",
    "\n",
    "#Preliminary exploratory data analysis:\n",
    "\n",
    "\n",
    "#Methods:\n",
    "\n",
    "\n",
    "#Expected Outcomes and Predicitions \n"
   ]
  }
 ],
 "metadata": {
  "kernelspec": {
   "display_name": "R",
   "language": "R",
   "name": "ir"
  },
  "language_info": {
   "codemirror_mode": "r",
   "file_extension": ".r",
   "mimetype": "text/x-r-source",
   "name": "R",
   "pygments_lexer": "r",
   "version": "4.3.1"
  },
  "nbdime-conflicts": {
   "local_diff": [
    {
     "key": "kernelspec",
     "op": "add",
     "value": {
      "display_name": "",
      "name": ""
     }
    },
    {
     "key": "language_info",
     "op": "add",
     "value": {
      "name": ""
     }
    }
   ],
   "remote_diff": [
    {
     "key": "kernelspec",
     "op": "add",
     "value": {
      "display_name": "R",
      "language": "R",
      "name": "ir"
     }
    },
    {
     "key": "language_info",
     "op": "add",
     "value": {
      "codemirror_mode": "r",
      "file_extension": ".r",
      "mimetype": "text/x-r-source",
      "name": "R",
      "pygments_lexer": "r",
      "version": "4.3.1"
     }
    }
   ]
  }
 },
 "nbformat": 4,
 "nbformat_minor": 5
}
