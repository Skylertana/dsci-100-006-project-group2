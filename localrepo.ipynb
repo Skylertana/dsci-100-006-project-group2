{
 "cells": [
  {
   "cell_type": "markdown",
   "id": "4be08da9-7be8-4a85-b70c-932f5c68b914",
   "metadata": {},
   "source": [
    "# Using Symptoms to Predict the Sex of an Individual with Heart Disease\n",
    "Dsci 100-006, Group 2"
   ]
  },
  {
   "cell_type": "markdown",
   "id": "aaf8dcbe-99a3-451a-ac32-9a5fca36e975",
   "metadata": {},
   "source": [
    "## Introduction\n",
    "\n",
    "Can the sex of an individual who is diagnosed with heart disease be accurately predicted by age and cholesterol level?\r\n",
    "\r\n",
    "Heart disease is the leading cause of death worldwide, manifested when the heart and blood vessels are compromised. It is characterized by the plaque build up around blood vessels, restricting blood flow to the heart. High blood pressure, smoking, obesity, high cholesterol, and inactivity are common factors that contribute to the development of cardiovascular disease. It is important to highlight that symptoms and risk factors differ significantly between men and women. Due to these differences, can the sex of the patient be predicted by the symptoms they present in response to cardiovascular diseases, particularly their age and cholesterol levels? To answer this question, the “International application of a new probability algorithm for the diagnosis of coronary artery disease” dataset will be used. The data set provides a variables table regarding the patient’s symptoms. We will use age and cholesterol levels as our predictors to identify the sex of the patient. \r\n"
   ]
  },
  {
   "cell_type": "code",
   "execution_count": 24,
   "id": "1274c9e4-ae54-41e5-b938-8b550523cd70",
   "metadata": {},
   "outputs": [
    {
     "name": "stderr",
     "output_type": "stream",
     "text": [
      "── \u001b[1mAttaching core tidyverse packages\u001b[22m ──────────────────────── tidyverse 2.0.0 ──\n",
      "\u001b[32m✔\u001b[39m \u001b[34mdplyr    \u001b[39m 1.1.3     \u001b[32m✔\u001b[39m \u001b[34mpurrr    \u001b[39m 1.0.2\n",
      "\u001b[32m✔\u001b[39m \u001b[34mforcats  \u001b[39m 1.0.0     \u001b[32m✔\u001b[39m \u001b[34mstringr  \u001b[39m 1.5.0\n",
      "\u001b[32m✔\u001b[39m \u001b[34mggplot2  \u001b[39m 3.4.4     \u001b[32m✔\u001b[39m \u001b[34mtibble   \u001b[39m 3.2.1\n",
      "\u001b[32m✔\u001b[39m \u001b[34mlubridate\u001b[39m 1.9.3     \u001b[32m✔\u001b[39m \u001b[34mtidyr    \u001b[39m 1.3.0\n",
      "── \u001b[1mConflicts\u001b[22m ────────────────────────────────────────── tidyverse_conflicts() ──\n",
      "\u001b[31m✖\u001b[39m \u001b[34mdplyr\u001b[39m::\u001b[32mfilter()\u001b[39m masks \u001b[34mstats\u001b[39m::filter()\n",
      "\u001b[31m✖\u001b[39m \u001b[34mdplyr\u001b[39m::\u001b[32mlag()\u001b[39m    masks \u001b[34mstats\u001b[39m::lag()\n",
      "\u001b[36mℹ\u001b[39m Use the conflicted package (\u001b[3m\u001b[34m<http://conflicted.r-lib.org/>\u001b[39m\u001b[23m) to force all conflicts to become errors\n",
      "── \u001b[1mAttaching packages\u001b[22m ────────────────────────────────────── tidymodels 1.1.1 ──\n",
      "\n",
      "\u001b[32m✔\u001b[39m \u001b[34mbroom       \u001b[39m 1.0.5     \u001b[32m✔\u001b[39m \u001b[34mrsample     \u001b[39m 1.2.0\n",
      "\u001b[32m✔\u001b[39m \u001b[34mdials       \u001b[39m 1.2.0     \u001b[32m✔\u001b[39m \u001b[34mtune        \u001b[39m 1.1.2\n",
      "\u001b[32m✔\u001b[39m \u001b[34minfer       \u001b[39m 1.0.5     \u001b[32m✔\u001b[39m \u001b[34mworkflows   \u001b[39m 1.1.3\n",
      "\u001b[32m✔\u001b[39m \u001b[34mmodeldata   \u001b[39m 1.2.0     \u001b[32m✔\u001b[39m \u001b[34mworkflowsets\u001b[39m 1.0.1\n",
      "\u001b[32m✔\u001b[39m \u001b[34mparsnip     \u001b[39m 1.1.1     \u001b[32m✔\u001b[39m \u001b[34myardstick   \u001b[39m 1.2.0\n",
      "\u001b[32m✔\u001b[39m \u001b[34mrecipes     \u001b[39m 1.0.8     \n",
      "\n",
      "── \u001b[1mConflicts\u001b[22m ───────────────────────────────────────── tidymodels_conflicts() ──\n",
      "\u001b[31m✖\u001b[39m \u001b[34mscales\u001b[39m::\u001b[32mdiscard()\u001b[39m masks \u001b[34mpurrr\u001b[39m::discard()\n",
      "\u001b[31m✖\u001b[39m \u001b[34mdplyr\u001b[39m::\u001b[32mfilter()\u001b[39m   masks \u001b[34mstats\u001b[39m::filter()\n",
      "\u001b[31m✖\u001b[39m \u001b[34mrecipes\u001b[39m::\u001b[32mfixed()\u001b[39m  masks \u001b[34mstringr\u001b[39m::fixed()\n",
      "\u001b[31m✖\u001b[39m \u001b[34mdplyr\u001b[39m::\u001b[32mlag()\u001b[39m      masks \u001b[34mstats\u001b[39m::lag()\n",
      "\u001b[31m✖\u001b[39m \u001b[34myardstick\u001b[39m::\u001b[32mspec()\u001b[39m masks \u001b[34mreadr\u001b[39m::spec()\n",
      "\u001b[31m✖\u001b[39m \u001b[34mrecipes\u001b[39m::\u001b[32mstep()\u001b[39m   masks \u001b[34mstats\u001b[39m::step()\n",
      "\u001b[34m•\u001b[39m Use suppressPackageStartupMessages() to eliminate package startup messages\n",
      "\n",
      "Warning message in file(filename, \"r\", encoding = encoding):\n",
      "“cannot open file 'cleanup.R': No such file or directory”\n"
     ]
    },
    {
     "ename": "ERROR",
     "evalue": "Error in file(filename, \"r\", encoding = encoding): cannot open the connection\n",
     "output_type": "error",
     "traceback": [
      "Error in file(filename, \"r\", encoding = encoding): cannot open the connection\nTraceback:\n",
      "1. source(\"cleanup.R\")",
      "2. file(filename, \"r\", encoding = encoding)"
     ]
    }
   ],
   "source": [
    "### Run this cell before continuing. \n",
    "library(tidyverse)\n",
    "library(tidymodels)\n",
    "library(repr)\n",
    "source(\"cleanup.R\")\n",
    "options(repr.matrix.max.rows = 10)"
   ]
  },
  {
   "cell_type": "code",
   "execution_count": 20,
   "id": "6e2c861c-4f89-4b5a-9528-6c3c942ee93f",
   "metadata": {},
   "outputs": [
    {
     "name": "stderr",
     "output_type": "stream",
     "text": [
      "\u001b[1mRows: \u001b[22m\u001b[34m303\u001b[39m \u001b[1mColumns: \u001b[22m\u001b[34m14\u001b[39m\n",
      "\u001b[36m──\u001b[39m \u001b[1mColumn specification\u001b[22m \u001b[36m────────────────────────────────────────────────────────\u001b[39m\n",
      "\u001b[1mDelimiter:\u001b[22m \",\"\n",
      "\u001b[31mchr\u001b[39m  (2): X12, X13\n",
      "\u001b[32mdbl\u001b[39m (12): X1, X2, X3, X4, X5, X6, X7, X8, X9, X10, X11, X14\n",
      "\n",
      "\u001b[36mℹ\u001b[39m Use `spec()` to retrieve the full column specification for this data.\n",
      "\u001b[36mℹ\u001b[39m Specify the column types or set `show_col_types = FALSE` to quiet this message.\n"
     ]
    },
    {
     "data": {
      "text/html": [
       "<table class=\"dataframe\">\n",
       "<caption>A tibble: 6 × 3</caption>\n",
       "<thead>\n",
       "\t<tr><th scope=col>age</th><th scope=col>chol</th><th scope=col>sex</th></tr>\n",
       "\t<tr><th scope=col>&lt;dbl&gt;</th><th scope=col>&lt;dbl&gt;</th><th scope=col>&lt;chr&gt;</th></tr>\n",
       "</thead>\n",
       "<tbody>\n",
       "\t<tr><td>63</td><td>233</td><td>male  </td></tr>\n",
       "\t<tr><td>67</td><td>286</td><td>male  </td></tr>\n",
       "\t<tr><td>67</td><td>229</td><td>male  </td></tr>\n",
       "\t<tr><td>37</td><td>250</td><td>male  </td></tr>\n",
       "\t<tr><td>41</td><td>204</td><td>female</td></tr>\n",
       "\t<tr><td>56</td><td>236</td><td>male  </td></tr>\n",
       "</tbody>\n",
       "</table>\n"
      ],
      "text/latex": [
       "A tibble: 6 × 3\n",
       "\\begin{tabular}{lll}\n",
       " age & chol & sex\\\\\n",
       " <dbl> & <dbl> & <chr>\\\\\n",
       "\\hline\n",
       "\t 63 & 233 & male  \\\\\n",
       "\t 67 & 286 & male  \\\\\n",
       "\t 67 & 229 & male  \\\\\n",
       "\t 37 & 250 & male  \\\\\n",
       "\t 41 & 204 & female\\\\\n",
       "\t 56 & 236 & male  \\\\\n",
       "\\end{tabular}\n"
      ],
      "text/markdown": [
       "\n",
       "A tibble: 6 × 3\n",
       "\n",
       "| age &lt;dbl&gt; | chol &lt;dbl&gt; | sex &lt;chr&gt; |\n",
       "|---|---|---|\n",
       "| 63 | 233 | male   |\n",
       "| 67 | 286 | male   |\n",
       "| 67 | 229 | male   |\n",
       "| 37 | 250 | male   |\n",
       "| 41 | 204 | female |\n",
       "| 56 | 236 | male   |\n",
       "\n"
      ],
      "text/plain": [
       "  age chol sex   \n",
       "1 63  233  male  \n",
       "2 67  286  male  \n",
       "3 67  229  male  \n",
       "4 37  250  male  \n",
       "5 41  204  female\n",
       "6 56  236  male  "
      ]
     },
     "metadata": {},
     "output_type": "display_data"
    }
   ],
   "source": [
    "library(readr)\n",
    "\n",
    "url <- \"https://archive.ics.uci.edu/ml/machine-learning-databases/heart-disease/processed.cleveland.data\"\n",
    "\n",
    "read_data <- read_csv(url, col_names = FALSE)\n",
    "\n",
    "heart_data <- read_data |>\n",
    "\n",
    "    mutate(age = X1,  chol = X5, sex = X2) |>\n",
    "    select(age, chol, sex) |>\n",
    "    mutate(sex = ifelse(sex == 1, \"male\", \"female\"))\n",
    "\n",
    "head(heart_data)"
   ]
  },
  {
   "cell_type": "code",
   "execution_count": 21,
   "id": "66c8ed29-46ef-422d-a3e0-ef88d9935e18",
   "metadata": {},
   "outputs": [],
   "source": [
    "heart_split <- initial_split(heart_data, prop = 0.75, strata = sex)  \n",
    "heart_train <- training(heart_split)\n",
    "heart_test <- testing(heart_split)"
   ]
  },
  {
   "cell_type": "markdown",
   "id": "1df35ff7-baf5-439c-9c09-8127fd02e769",
   "metadata": {},
   "source": [
    "## Preliminary exploratory data analysis:\n",
    "\n"
   ]
  },
  {
   "cell_type": "markdown",
   "id": "2d310410-fe8e-46d0-add2-946dd2cfaf2f",
   "metadata": {},
   "source": [
    "## Methods:\n",
    "\n",
    "The columns for age \"age\" and cholesterol \"chol\" will be used to create a model that will predict the class \"sex\".\n",
    "\n",
    "A scatterplot graph will be generated with colourcoding for the class (sex) from the training data."
   ]
  },
  {
   "cell_type": "code",
   "execution_count": 55,
   "id": "c75bb8ac-9d92-4013-8ada-0e50c44b07bd",
   "metadata": {},
   "outputs": [
    {
     "data": {
      "text/html": [
       "<table class=\"dataframe\">\n",
       "<caption>A tibble: 1 × 3</caption>\n",
       "<thead>\n",
       "\t<tr><th scope=col>age</th><th scope=col>chol</th><th scope=col>missing data count</th></tr>\n",
       "\t<tr><th scope=col>&lt;dbl&gt;</th><th scope=col>&lt;dbl&gt;</th><th scope=col>&lt;dbl&gt;</th></tr>\n",
       "</thead>\n",
       "<tbody>\n",
       "\t<tr><td>54.13717</td><td>246.615</td><td>0</td></tr>\n",
       "</tbody>\n",
       "</table>\n"
      ],
      "text/latex": [
       "A tibble: 1 × 3\n",
       "\\begin{tabular}{lll}\n",
       " age & chol & missing data count\\\\\n",
       " <dbl> & <dbl> & <dbl>\\\\\n",
       "\\hline\n",
       "\t 54.13717 & 246.615 & 0\\\\\n",
       "\\end{tabular}\n"
      ],
      "text/markdown": [
       "\n",
       "A tibble: 1 × 3\n",
       "\n",
       "| age &lt;dbl&gt; | chol &lt;dbl&gt; | missing data count &lt;dbl&gt; |\n",
       "|---|---|---|\n",
       "| 54.13717 | 246.615 | 0 |\n",
       "\n"
      ],
      "text/plain": [
       "  age      chol    missing data count\n",
       "1 54.13717 246.615 0                 "
      ]
     },
     "metadata": {},
     "output_type": "display_data"
    }
   ],
   "source": [
    "summary_table <- heart_train |>\n",
    "    select(age, chol) |>\n",
    "    mutate(\"missing data count\" = sum(is.na(age) | is.na(chol))) |>\n",
    "    map_df(mean) \n",
    "summary_table\n"
   ]
  },
  {
   "cell_type": "markdown",
   "id": "a13805d6-e8f4-4e0e-9b9b-aebb8d9a92bf",
   "metadata": {},
   "source": [
    "## Expected Outcomes and Predicitions \n",
    "\n"
   ]
  }
 ],
 "metadata": {
  "kernelspec": {
   "display_name": "R",
   "language": "R",
   "name": "ir"
  },
  "language_info": {
   "codemirror_mode": "r",
   "file_extension": ".r",
   "mimetype": "text/x-r-source",
   "name": "R",
   "pygments_lexer": "r",
   "version": "4.3.1"
  },
  "nbdime-conflicts": {
   "local_diff": [
    {
     "key": "kernelspec",
     "op": "add",
     "value": {
      "display_name": "",
      "name": ""
     }
    },
    {
     "key": "language_info",
     "op": "add",
     "value": {
      "name": ""
     }
    }
   ],
   "remote_diff": [
    {
     "key": "kernelspec",
     "op": "add",
     "value": {
      "display_name": "R",
      "language": "R",
      "name": "ir"
     }
    },
    {
     "key": "language_info",
     "op": "add",
     "value": {
      "codemirror_mode": "r",
      "file_extension": ".r",
      "mimetype": "text/x-r-source",
      "name": "R",
      "pygments_lexer": "r",
      "version": "4.3.1"
     }
    }
   ]
  }
 },
 "nbformat": 4,
 "nbformat_minor": 5
}
