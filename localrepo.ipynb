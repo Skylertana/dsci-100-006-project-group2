{
 "cells": [
  {
   "cell_type": "markdown",
   "id": "4be08da9-7be8-4a85-b70c-932f5c68b914",
   "metadata": {},
   "source": [
    "# Using Symptoms to Predict the Sex of an Individual with Heart Disease\n",
    "Dsci 100-006, Group 2, \n",
    "By: Lauren Williams (40301228),\n",
    "Harmandeep Singh (80027824),\n",
    "Chloe de Weerdt (30733018),\n",
    "Skyler Tanahara (80279326)\n"
   ]
  },
  {
   "cell_type": "markdown",
   "id": "aaf8dcbe-99a3-451a-ac32-9a5fca36e975",
   "metadata": {},
   "source": [
    "## Introduction\n",
    "\n",
    "Can the sex of an individual who is diagnosed with heart disease be accurately predicted by age and cholesterol level?\r\n",
    "\r\n",
    "Heart disease is the leading cause of death worldwide, manifested when the heart and blood vessels are compromised. It is characterized by the plaque build up around blood vessels, restricting blood flow to the heart. High blood pressure, smoking, obesity, high cholesterol, and inactivity are common factors that contribute to the development of cardiovascular disease. It is important to highlight that symptoms and risk factors differ significantly between men and women. Due to these differences, can the sex of the patient be predicted by the symptoms they present in response to cardiovascular diseases, particularly their age and cholesterol levels? To answer this question, the “International application of a new probability algorithm for the diagnosis of coronary artery disease” dataset will be used. The data set provides a variables table regarding the patient’s symptoms. We will use age and cholesterol levels as our predictors to identify the sex of the patient. \r\n"
   ]
  },
  {
   "cell_type": "code",
   "execution_count": null,
   "id": "1274c9e4-ae54-41e5-b938-8b550523cd70",
   "metadata": {
    "scrolled": true
   },
   "outputs": [],
   "source": [
    "### Run this cell before continuing. \n",
    "library(tidyverse)\n",
    "library(tidymodels)\n",
    "library(repr)\n",
    "\n",
    "options(repr.matrix.max.rows = 10)"
   ]
  },
  {
   "cell_type": "code",
   "execution_count": 15,
   "id": "6e2c861c-4f89-4b5a-9528-6c3c942ee93f",
   "metadata": {},
   "outputs": [
    {
     "name": "stderr",
     "output_type": "stream",
     "text": [
      "\u001b[1mRows: \u001b[22m\u001b[34m303\u001b[39m \u001b[1mColumns: \u001b[22m\u001b[34m14\u001b[39m\n",
      "\u001b[36m──\u001b[39m \u001b[1mColumn specification\u001b[22m \u001b[36m────────────────────────────────────────────────────────\u001b[39m\n",
      "\u001b[1mDelimiter:\u001b[22m \",\"\n",
      "\u001b[31mchr\u001b[39m  (2): X12, X13\n",
      "\u001b[32mdbl\u001b[39m (12): X1, X2, X3, X4, X5, X6, X7, X8, X9, X10, X11, X14\n",
      "\n",
      "\u001b[36mℹ\u001b[39m Use `spec()` to retrieve the full column specification for this data.\n",
      "\u001b[36mℹ\u001b[39m Specify the column types or set `show_col_types = FALSE` to quiet this message.\n"
     ]
    },
    {
     "data": {
      "text/html": [
       "<table class=\"dataframe\">\n",
       "<caption>A tibble: 6 × 4</caption>\n",
       "<thead>\n",
       "\t<tr><th scope=col>age</th><th scope=col>chol</th><th scope=col>sex</th><th scope=col>cp</th></tr>\n",
       "\t<tr><th scope=col>&lt;dbl&gt;</th><th scope=col>&lt;dbl&gt;</th><th scope=col>&lt;chr&gt;</th><th scope=col>&lt;chr&gt;</th></tr>\n",
       "</thead>\n",
       "<tbody>\n",
       "\t<tr><td>63</td><td>233</td><td>male  </td><td>typical angina  </td></tr>\n",
       "\t<tr><td>67</td><td>286</td><td>male  </td><td>asymptomatic    </td></tr>\n",
       "\t<tr><td>67</td><td>229</td><td>male  </td><td>asymptomatic    </td></tr>\n",
       "\t<tr><td>37</td><td>250</td><td>male  </td><td>non-anginal pain</td></tr>\n",
       "\t<tr><td>41</td><td>204</td><td>female</td><td>atypical angina </td></tr>\n",
       "\t<tr><td>56</td><td>236</td><td>male  </td><td>atypical angina </td></tr>\n",
       "</tbody>\n",
       "</table>\n"
      ],
      "text/latex": [
       "A tibble: 6 × 4\n",
       "\\begin{tabular}{llll}\n",
       " age & chol & sex & cp\\\\\n",
       " <dbl> & <dbl> & <chr> & <chr>\\\\\n",
       "\\hline\n",
       "\t 63 & 233 & male   & typical angina  \\\\\n",
       "\t 67 & 286 & male   & asymptomatic    \\\\\n",
       "\t 67 & 229 & male   & asymptomatic    \\\\\n",
       "\t 37 & 250 & male   & non-anginal pain\\\\\n",
       "\t 41 & 204 & female & atypical angina \\\\\n",
       "\t 56 & 236 & male   & atypical angina \\\\\n",
       "\\end{tabular}\n"
      ],
      "text/markdown": [
       "\n",
       "A tibble: 6 × 4\n",
       "\n",
       "| age &lt;dbl&gt; | chol &lt;dbl&gt; | sex &lt;chr&gt; | cp &lt;chr&gt; |\n",
       "|---|---|---|---|\n",
       "| 63 | 233 | male   | typical angina   |\n",
       "| 67 | 286 | male   | asymptomatic     |\n",
       "| 67 | 229 | male   | asymptomatic     |\n",
       "| 37 | 250 | male   | non-anginal pain |\n",
       "| 41 | 204 | female | atypical angina  |\n",
       "| 56 | 236 | male   | atypical angina  |\n",
       "\n"
      ],
      "text/plain": [
       "  age chol sex    cp              \n",
       "1 63  233  male   typical angina  \n",
       "2 67  286  male   asymptomatic    \n",
       "3 67  229  male   asymptomatic    \n",
       "4 37  250  male   non-anginal pain\n",
       "5 41  204  female atypical angina \n",
       "6 56  236  male   atypical angina "
      ]
     },
     "metadata": {},
     "output_type": "display_data"
    }
   ],
   "source": [
    "library(readr)\n",
    "\n",
    "url <- \"https://archive.ics.uci.edu/ml/machine-learning-databases/heart-disease/processed.cleveland.data\"\n",
    "\n",
    "read_data <- read_csv(url, col_names = FALSE)\n",
    "\n",
    "heart_data <- read_data |>\n",
    "\n",
    "    mutate(age = X1,  chol = X5, sex = X2, cp = X3) |>\n",
    "    select(age, chol, sex, cp) |>\n",
    "    mutate(sex = ifelse(sex == 1, \"male\", \"female\")) |>\n",
    "    mutate(cp = recode(cp, \"1\" = \"typical angina\", \"2\" = \"atypical angina\", \"3\" = \"non-anginal pain\", \"4\" = \"asymptomatic\"))\n",
    "head(heart_data)"
   ]
  },
  {
   "cell_type": "markdown",
   "id": "1df35ff7-baf5-439c-9c09-8127fd02e769",
   "metadata": {},
   "source": [
    "## Preliminary exploratory data analysis:\n",
    "\n"
   ]
  },
  {
   "cell_type": "code",
   "execution_count": 11,
   "id": "bccc3bd8-0277-487b-b90b-7f3e7caaac70",
   "metadata": {},
   "outputs": [
    {
     "data": {
      "text/html": [
       "<table class=\"dataframe\">\n",
       "<caption>A tibble: 1 × 6</caption>\n",
       "<thead>\n",
       "\t<tr><th scope=col>Age Average</th><th scope=col>Cholesterol Average</th><th scope=col>Rows with Missing Data</th><th scope=col>Number of Sex Observations</th><th scope=col>Number of Cholesterol Observations</th><th scope=col>Number of Age Observations</th></tr>\n",
       "\t<tr><th scope=col>&lt;dbl&gt;</th><th scope=col>&lt;dbl&gt;</th><th scope=col>&lt;dbl&gt;</th><th scope=col>&lt;int&gt;</th><th scope=col>&lt;int&gt;</th><th scope=col>&lt;int&gt;</th></tr>\n",
       "</thead>\n",
       "<tbody>\n",
       "\t<tr><td>54.4115</td><td>249.3186</td><td>0</td><td>2</td><td>128</td><td>40</td></tr>\n",
       "</tbody>\n",
       "</table>\n"
      ],
      "text/latex": [
       "A tibble: 1 × 6\n",
       "\\begin{tabular}{llllll}\n",
       " Age Average & Cholesterol Average & Rows with Missing Data & Number of Sex Observations & Number of Cholesterol Observations & Number of Age Observations\\\\\n",
       " <dbl> & <dbl> & <dbl> & <int> & <int> & <int>\\\\\n",
       "\\hline\n",
       "\t 54.4115 & 249.3186 & 0 & 2 & 128 & 40\\\\\n",
       "\\end{tabular}\n"
      ],
      "text/markdown": [
       "\n",
       "A tibble: 1 × 6\n",
       "\n",
       "| Age Average &lt;dbl&gt; | Cholesterol Average &lt;dbl&gt; | Rows with Missing Data &lt;dbl&gt; | Number of Sex Observations &lt;int&gt; | Number of Cholesterol Observations &lt;int&gt; | Number of Age Observations &lt;int&gt; |\n",
       "|---|---|---|---|---|---|\n",
       "| 54.4115 | 249.3186 | 0 | 2 | 128 | 40 |\n",
       "\n"
      ],
      "text/plain": [
       "  Age Average Cholesterol Average Rows with Missing Data\n",
       "1 54.4115     249.3186            0                     \n",
       "  Number of Sex Observations Number of Cholesterol Observations\n",
       "1 2                          128                               \n",
       "  Number of Age Observations\n",
       "1 40                        "
      ]
     },
     "metadata": {},
     "output_type": "display_data"
    }
   ],
   "source": [
    "set.seed(4321)\n",
    "\n",
    "heart_split1 <- initial_split(heart_data, prop = 0.75, strata = sex)\n",
    "heart_train1 <- training(heart_split1)\n",
    "\n",
    "age_count <- heart_train1 |>\n",
    "            reframe(unique(age)) |>\n",
    "            nrow()\n",
    "\n",
    "col_count <- heart_train1 |>\n",
    "            reframe(unique(chol)) |>\n",
    "            nrow()\n",
    "   \n",
    "sex_count <- heart_train1 |>\n",
    "            reframe(unique(sex)) |>\n",
    "            nrow()\n",
    "\n",
    "summary_table <- heart_train1 |>\n",
    "    select(age, chol) |>\n",
    "    mutate(\"Rows with Missing Data\" = sum(is.na(age) | is.na(chol))) |>\n",
    "    map_df(mean) |>\n",
    "    mutate(\"Number of Sex Observations\" = sex_count,\n",
    "           \"Number of Cholesterol Observations\" = col_count, \n",
    "           \"Number of Age Observations\" = age_count) |>\n",
    "    rename(\"Cholesterol Average\" = chol, \"Age Average\" = age) \n",
    "    \n",
    "    \n",
    "summary_table"
   ]
  },
  {
   "cell_type": "markdown",
   "id": "2d310410-fe8e-46d0-add2-946dd2cfaf2f",
   "metadata": {},
   "source": [
    "## Methods:\n",
    "\n",
    "The columns for age \"age\" and cholesterol \"chol\" will be used to create a model that will predict the class \"sex\".\n",
    "\n",
    "A scatterplot graph will be generated with colourcoding for the class (sex) from the training data."
   ]
  },
  {
   "cell_type": "code",
   "execution_count": 1,
   "id": "c75bb8ac-9d92-4013-8ada-0e50c44b07bd",
   "metadata": {},
   "outputs": [
    {
     "name": "stderr",
     "output_type": "stream",
     "text": [
      "also installing the dependencies ‘RANN’, ‘ROSE’\n",
      "\n",
      "\n",
      "Updating HTML index of packages in '.Library'\n",
      "\n",
      "Making 'packages.html' ...\n",
      " done\n",
      "\n",
      "Loading required package: recipes\n",
      "\n",
      "Loading required package: dplyr\n",
      "\n",
      "\n",
      "Attaching package: ‘dplyr’\n",
      "\n",
      "\n",
      "The following objects are masked from ‘package:stats’:\n",
      "\n",
      "    filter, lag\n",
      "\n",
      "\n",
      "The following objects are masked from ‘package:base’:\n",
      "\n",
      "    intersect, setdiff, setequal, union\n",
      "\n",
      "\n",
      "\n",
      "Attaching package: ‘recipes’\n",
      "\n",
      "\n",
      "The following object is masked from ‘package:stats’:\n",
      "\n",
      "    step\n",
      "\n",
      "\n"
     ]
    },
    {
     "ename": "ERROR",
     "evalue": "Error in eval(expr, envir, enclos): object 'heart_data' not found\n",
     "output_type": "error",
     "traceback": [
      "Error in eval(expr, envir, enclos): object 'heart_data' not found\nTraceback:\n",
      "1. bake(prep(step_upsample(step_center(step_scale(recipe(sex ~ age + \n .     chol, data = heart_data), all_predictors()), all_predictors()), \n .     sex, over_ratio = 1, skip = FALSE)), heart_data)",
      "2. prep(step_upsample(step_center(step_scale(recipe(sex ~ age + \n .     chol, data = heart_data), all_predictors()), all_predictors()), \n .     sex, over_ratio = 1, skip = FALSE))",
      "3. step_upsample(step_center(step_scale(recipe(sex ~ age + chol, \n .     data = heart_data), all_predictors()), all_predictors()), \n .     sex, over_ratio = 1, skip = FALSE)",
      "4. add_step(recipe, step_upsample_new(terms = enquos(...), over_ratio = over_ratio, \n .     ratio = NULL, role = role, trained = trained, column = column, \n .     target = target, skip = skip, seed = seed, id = id, case_weights = NULL))",
      "5. step_center(step_scale(recipe(sex ~ age + chol, data = heart_data), \n .     all_predictors()), all_predictors())",
      "6. add_step(recipe, step_center_new(terms = enquos(...), trained = trained, \n .     role = role, means = means, na_rm = na_rm, skip = skip, id = id, \n .     case_weights = NULL))",
      "7. step_scale(recipe(sex ~ age + chol, data = heart_data), all_predictors())",
      "8. add_step(recipe, step_scale_new(terms = enquos(...), role = role, \n .     trained = trained, sds = sds, factor = factor, na_rm = na_rm, \n .     skip = skip, id = id, case_weights = NULL))",
      "9. recipe(sex ~ age + chol, data = heart_data)",
      "10. recipe.formula(sex ~ age + chol, data = heart_data)",
      "11. rlang::is_missing(data)"
     ]
    }
   ],
   "source": [
    "install.packages(\"themis\")\n",
    "library(themis)\n",
    "\n",
    "set.seed(4321)\n",
    "\n",
    "heart_data_recipe <- recipe(sex ~ age + chol, data = heart_data) |>\n",
    "                        step_scale(all_predictors()) |>\n",
    "                        step_center(all_predictors()) |> \n",
    "                        step_upsample(sex, over_ratio = 1, skip = FALSE) |> \n",
    "                        prep() |> \n",
    "                        bake(heart_data)\n",
    "\n",
    "heart_split <- initial_split(heart_data_scaled, prop = 0.75, strata = sex)  \n",
    "heart_train <- training(heart_split)\n",
    "heart_test <- testing(heart_split)\n",
    "\n",
    "\n",
    "heart_plot <- heart_train |>\n",
    "    ggplot(aes(x = age, y = chol))+\n",
    "        geom_point(aes(color = sex)) +\n",
    "        labs(x = \"Age in years\", y = \"Cholesterol in mg/dl (standardized)\",\n",
    "             color = \"Sex\", title = \"Predicting Sex using Cholesterol \\n and Age for Heart Disease\") +\n",
    "        scale_colour_manual(values = c(\"darkorange\", \"slateblue\")) +\n",
    "        theme(text = element_text(size = 20)) \n",
    "\n",
    "heart_plot"
   ]
  },
  {
   "cell_type": "markdown",
   "id": "0b31f667-f667-4557-bf31-b185c078283d",
   "metadata": {},
   "source": [
    "## Expected Outcomes and Significance:"
   ]
  },
  {
   "cell_type": "markdown",
   "id": "d39eda16-1ce1-4f5f-809f-23d240bb8ab5",
   "metadata": {},
   "source": [
    "As you increase with age we predict that the individual with heart disease is more likely to be female. Before menopause, women tend to have a lower risk of heart disease compared to men of the same age. This is partially attributed to the protective effects of estrogen, a hormone that may have beneficial effects on the cardiovascular system. However, after menopause, when estrogen levels decline, the risk of heart disease in women increases, and it can approach or even surpass the risk in men of similar age. Therefore, individuals that are older in age with heart disease are more likely to be female as their hormone levels change through menopause, and individuals with heart disease at younger ages are more likely to be male. Using the predictor cholesterol, we think higher cholesterol levels are more likely to be male. This is due to gender-specific lifestyles. Due to social stigma, females tend to maintain a healthier diet and a more active lifestyle whereas men tend to live a more sedentary life. These differences in activity, therefore, provide us with relative cholesterol levels allowing us to predict the sex of an individual. \n",
    "Knowing the differences between the age of onset and cholesterol levels for heart disease between men and women would help us build better protocols and guidelines that are catered to the sex of the individual. Current research is mainly focused on the male population and differences between sex are often not taken into account, believing that male findings are applicable to women. Knowing that women have a higher chance of heart disease postmenopause would allow us to encourage women to go for regular check-ups postmenopause.\n",
    "Further questions could arise from data analysis like ours:\n",
    "Are the sex-specific risk factors that contribute to the development of heart disease? Do treatments for heart disease have different effectiveness or side effects in men and women? How can treatment strategies be tailored to the specific needs of each gender?\n"
   ]
  }
 ],
 "metadata": {
  "kernelspec": {
   "display_name": "R",
   "language": "R",
   "name": "ir"
  },
  "language_info": {
   "codemirror_mode": "r",
   "file_extension": ".r",
   "mimetype": "text/x-r-source",
   "name": "R",
   "pygments_lexer": "r",
   "version": "4.3.1"
  },
  "nbdime-conflicts": {
   "local_diff": [
    {
     "key": "kernelspec",
     "op": "add",
     "value": {
      "display_name": "",
      "name": ""
     }
    },
    {
     "key": "language_info",
     "op": "add",
     "value": {
      "name": ""
     }
    }
   ],
   "remote_diff": [
    {
     "key": "kernelspec",
     "op": "add",
     "value": {
      "display_name": "R",
      "language": "R",
      "name": "ir"
     }
    },
    {
     "key": "language_info",
     "op": "add",
     "value": {
      "codemirror_mode": "r",
      "file_extension": ".r",
      "mimetype": "text/x-r-source",
      "name": "R",
      "pygments_lexer": "r",
      "version": "4.3.1"
     }
    }
   ]
  }
 },
 "nbformat": 4,
 "nbformat_minor": 5
}
