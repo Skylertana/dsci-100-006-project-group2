{
 "cells": [
  {
   "cell_type": "code",
   "execution_count": 1,
   "id": "6a4ccea9",
   "metadata": {},
   "outputs": [],
   "source": [
    "#Title: \n",
    "#What is the sex of an individual who is diagnosed with heart disease predicted by …. Symptoms?\n",
    "\n",
    "\n",
    "#Intro:\n",
    "#-describe heart disease\n",
    "#-background info\n",
    "#-gender difference\n",
    "\n",
    "\n",
    "#Preliminary exploratory data analysis:\n",
    "\n",
    "\n",
    "#Methods:\n",
    "\n",
    "\n",
    "#Expected Outcomes and Predicitions \n"
   ]
  },
  {
   "cell_type": "markdown",
   "id": "4be08da9-7be8-4a85-b70c-932f5c68b914",
   "metadata": {},
   "source": [
    "# Using Symptoms to Predict the Sex of an Individual with Heart Disease\n",
    "Dsci 100-006, Group 2"
   ]
  },
  {
   "cell_type": "markdown",
   "id": "aaf8dcbe-99a3-451a-ac32-9a5fca36e975",
   "metadata": {},
   "source": [
    "## Introduction\n",
    "\n",
    "-intro here"
   ]
  },
  {
   "cell_type": "code",
   "execution_count": null,
   "id": "28f0bf51-850e-44dc-b618-312637981607",
   "metadata": {},
   "outputs": [],
   "source": []
  },
  {
   "cell_type": "code",
   "execution_count": null,
   "id": "1274c9e4-ae54-41e5-b938-8b550523cd70",
   "metadata": {},
   "outputs": [
    {
     "name": "stderr",
     "output_type": "stream",
     "text": [
      "── \u001b[1mAttaching core tidyverse packages\u001b[22m ──────────────────────── tidyverse 2.0.0 ──\n",
      "\u001b[32m✔\u001b[39m \u001b[34mdplyr    \u001b[39m 1.1.3     \u001b[32m✔\u001b[39m \u001b[34mpurrr    \u001b[39m 1.0.2\n",
      "\u001b[32m✔\u001b[39m \u001b[34mforcats  \u001b[39m 1.0.0     \u001b[32m✔\u001b[39m \u001b[34mstringr  \u001b[39m 1.5.0\n",
      "\u001b[32m✔\u001b[39m \u001b[34mggplot2  \u001b[39m 3.4.4     \u001b[32m✔\u001b[39m \u001b[34mtibble   \u001b[39m 3.2.1\n",
      "\u001b[32m✔\u001b[39m \u001b[34mlubridate\u001b[39m 1.9.3     \u001b[32m✔\u001b[39m \u001b[34mtidyr    \u001b[39m 1.3.0\n",
      "── \u001b[1mConflicts\u001b[22m ────────────────────────────────────────── tidyverse_conflicts() ──\n",
      "\u001b[31m✖\u001b[39m \u001b[34mdplyr\u001b[39m::\u001b[32mfilter()\u001b[39m masks \u001b[34mstats\u001b[39m::filter()\n",
      "\u001b[31m✖\u001b[39m \u001b[34mdplyr\u001b[39m::\u001b[32mlag()\u001b[39m    masks \u001b[34mstats\u001b[39m::lag()\n",
      "\u001b[36mℹ\u001b[39m Use the conflicted package (\u001b[3m\u001b[34m<http://conflicted.r-lib.org/>\u001b[39m\u001b[23m) to force all conflicts to become errors\n"
     ]
    }
   ],
   "source": [
    "### Run this cell before continuing. \n",
    "library(tidyverse)\n",
    "library(tidymodels)\n",
    "library(repr)\n",
    "source(\"cleanup.R\")\n",
    "options(repr.matrix.max.rows = 10)"
   ]
  },
  {
   "cell_type": "code",
   "execution_count": 1,
   "id": "6e2c861c-4f89-4b5a-9528-6c3c942ee93f",
   "metadata": {},
   "outputs": [],
   "source": [
    "library(readr)\n",
    "\n",
    "# heart_data <- read_csv(\"data goes here\")\n",
    "# head(heart_data)"
   ]
  },
  {
   "cell_type": "code",
   "execution_count": null,
   "id": "48158cec-2c59-4ae9-bfdc-4220a0eb0eb3",
   "metadata": {},
   "outputs": [],
   "source": []
  }
 ],
 "metadata": {
  "kernelspec": {
   "display_name": "R",
   "language": "R",
   "name": "ir"
  },
  "language_info": {
   "codemirror_mode": "r",
   "file_extension": ".r",
   "mimetype": "text/x-r-source",
   "name": "R",
   "pygments_lexer": "r",
   "version": "4.3.1"
  },
  "nbdime-conflicts": {
   "local_diff": [
    {
     "key": "kernelspec",
     "op": "add",
     "value": {
      "display_name": "",
      "name": ""
     }
    },
    {
     "key": "language_info",
     "op": "add",
     "value": {
      "name": ""
     }
    }
   ],
   "remote_diff": [
    {
     "key": "kernelspec",
     "op": "add",
     "value": {
      "display_name": "R",
      "language": "R",
      "name": "ir"
     }
    },
    {
     "key": "language_info",
     "op": "add",
     "value": {
      "codemirror_mode": "r",
      "file_extension": ".r",
      "mimetype": "text/x-r-source",
      "name": "R",
      "pygments_lexer": "r",
      "version": "4.3.1"
     }
    }
   ]
  }
 },
 "nbformat": 4,
 "nbformat_minor": 5
}
