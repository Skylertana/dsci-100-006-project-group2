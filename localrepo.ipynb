{
 "cells": [
  {
   "cell_type": "markdown",
   "id": "4be08da9-7be8-4a85-b70c-932f5c68b914",
   "metadata": {},
   "source": [
    "# Using Symptoms to Predict the Sex of an Individual with Heart Disease\n",
    "Dsci 100-006, Group 2"
   ]
  },
  {
   "cell_type": "markdown",
   "id": "aaf8dcbe-99a3-451a-ac32-9a5fca36e975",
   "metadata": {},
   "source": [
    "## Introduction\n",
    "\n",
    "Can the sex of an individual who is diagnosed with heart disease be accurately predicted by age and cholesterol level?\r\n",
    "\r\n",
    "Heart disease is the leading cause of death worldwide, manifested when the heart and blood vessels are compromised. It is characterized by the plaque build up around blood vessels, restricting blood flow to the heart. High blood pressure, smoking, obesity, high cholesterol, and inactivity are common factors that contribute to the development of cardiovascular disease. It is important to highlight that symptoms and risk factors differ significantly between men and women. Due to these differences, can the sex of the patient be predicted by the symptoms they present in response to cardiovascular diseases, particularly their age and cholesterol levels? To answer this question, the “International application of a new probability algorithm for the diagnosis of coronary artery disease” dataset will be used. The data set provides a variables table regarding the patient’s symptoms. We will use age and cholesterol levels as our predictors to identify the sex of the patient. \r\n"
   ]
  },
  {
   "cell_type": "markdown",
   "id": "0f9605ea-8d7e-4899-abcd-81fecd1f5f7f",
   "metadata": {},
   "source": [
    "## Methods\n",
    "\n",
    "The columns for resting blood pressure \"trestbps\" and cholesterol levels \"chol\" will be used to create a model to predict the sex of an individual diagnosed with heart disease, \"sex\", using the training data.\r\n"
   ]
  },
  {
   "cell_type": "code",
   "execution_count": null,
   "id": "1274c9e4-ae54-41e5-b938-8b550523cd70",
   "metadata": {},
   "outputs": [
    {
     "name": "stderr",
     "output_type": "stream",
     "text": [
      "── \u001b[1mAttaching core tidyverse packages\u001b[22m ──────────────────────── tidyverse 2.0.0 ──\n",
      "\u001b[32m✔\u001b[39m \u001b[34mdplyr    \u001b[39m 1.1.3     \u001b[32m✔\u001b[39m \u001b[34mpurrr    \u001b[39m 1.0.2\n",
      "\u001b[32m✔\u001b[39m \u001b[34mforcats  \u001b[39m 1.0.0     \u001b[32m✔\u001b[39m \u001b[34mstringr  \u001b[39m 1.5.0\n",
      "\u001b[32m✔\u001b[39m \u001b[34mggplot2  \u001b[39m 3.4.4     \u001b[32m✔\u001b[39m \u001b[34mtibble   \u001b[39m 3.2.1\n",
      "\u001b[32m✔\u001b[39m \u001b[34mlubridate\u001b[39m 1.9.3     \u001b[32m✔\u001b[39m \u001b[34mtidyr    \u001b[39m 1.3.0\n",
      "── \u001b[1mConflicts\u001b[22m ────────────────────────────────────────── tidyverse_conflicts() ──\n",
      "\u001b[31m✖\u001b[39m \u001b[34mdplyr\u001b[39m::\u001b[32mfilter()\u001b[39m masks \u001b[34mstats\u001b[39m::filter()\n",
      "\u001b[31m✖\u001b[39m \u001b[34mdplyr\u001b[39m::\u001b[32mlag()\u001b[39m    masks \u001b[34mstats\u001b[39m::lag()\n",
      "\u001b[36mℹ\u001b[39m Use the conflicted package (\u001b[3m\u001b[34m<http://conflicted.r-lib.org/>\u001b[39m\u001b[23m) to force all conflicts to become errors\n"
     ]
    }
   ],
   "source": [
    "### Run this cell before continuing. \n",
    "library(tidyverse)\n",
    "library(tidymodels)\n",
    "library(repr)\n",
    "source(\"cleanup.R\")\n",
    "options(repr.matrix.max.rows = 10)"
   ]
  },
  {
   "cell_type": "code",
   "execution_count": 1,
   "id": "6e2c861c-4f89-4b5a-9528-6c3c942ee93f",
   "metadata": {},
   "outputs": [
    {
     "name": "stderr",
     "output_type": "stream",
     "text": [
      "Warning message:\n",
      "“\u001b[1m\u001b[22mOne or more parsing issues, call `problems()` on your data frame for details,\n",
      "e.g.:\n",
      "  dat <- vroom(...)\n",
      "  problems(dat)”\n",
      "\u001b[1mRows: \u001b[22m\u001b[34m323\u001b[39m \u001b[1mColumns: \u001b[22m\u001b[34m1\u001b[39m\n",
      "\u001b[36m──\u001b[39m \u001b[1mColumn specification\u001b[22m \u001b[36m────────────────────────────────────────────────────────\u001b[39m\n",
      "\u001b[1mDelimiter:\u001b[22m \",\"\n",
      "\u001b[31mchr\u001b[39m (1): <!DOCTYPE html>\n",
      "\n",
      "\u001b[36mℹ\u001b[39m Use `spec()` to retrieve the full column specification for this data.\n",
      "\u001b[36mℹ\u001b[39m Specify the column types or set `show_col_types = FALSE` to quiet this message.\n"
     ]
    },
    {
     "data": {
      "text/html": [
       "<table class=\"dataframe\">\n",
       "<caption>A tibble: 6 × 1</caption>\n",
       "<thead>\n",
       "\t<tr><th scope=col>&lt;!DOCTYPE html&gt;</th></tr>\n",
       "\t<tr><th scope=col>&lt;chr&gt;</th></tr>\n",
       "</thead>\n",
       "<tbody>\n",
       "\t<tr><td><span style=white-space:pre-wrap>&lt;html lang=\"en\" data-theme=\"light\"&gt;                                      </span></td></tr>\n",
       "\t<tr><td><span style=white-space:pre-wrap>&lt;head&gt;                                                                   </span></td></tr>\n",
       "\t<tr><td><span style=white-space:pre-wrap>&lt;meta charset=\"UTF-8\" /&gt;                                                 </span></td></tr>\n",
       "\t<tr><td>&lt;meta name=\"viewport\" content=\"width=device-width, initial-scale=1.0\" /&gt; </td></tr>\n",
       "\t<tr><td>&lt;meta name=\"description\" content=\"Discover datasets around the world!\" /&gt;</td></tr>\n",
       "\t<tr><td><span style=white-space:pre-wrap>&lt;link rel=\"icon\" href=\"/favicon.ico\" /&gt;                                  </span></td></tr>\n",
       "</tbody>\n",
       "</table>\n"
      ],
      "text/latex": [
       "A tibble: 6 × 1\n",
       "\\begin{tabular}{l}\n",
       " <!DOCTYPE html>\\\\\n",
       " <chr>\\\\\n",
       "\\hline\n",
       "\t <html lang=\"en\" data-theme=\"light\">                                      \\\\\n",
       "\t <head>                                                                   \\\\\n",
       "\t <meta charset=\"UTF-8\" />                                                 \\\\\n",
       "\t <meta name=\"viewport\" content=\"width=device-width, initial-scale=1.0\" /> \\\\\n",
       "\t <meta name=\"description\" content=\"Discover datasets around the world!\" />\\\\\n",
       "\t <link rel=\"icon\" href=\"/favicon.ico\" />                                  \\\\\n",
       "\\end{tabular}\n"
      ],
      "text/markdown": [
       "\n",
       "A tibble: 6 × 1\n",
       "\n",
       "| &lt;!DOCTYPE html&gt; &lt;chr&gt; |\n",
       "|---|\n",
       "| &lt;html lang=\"en\" data-theme=\"light\"&gt;                                       |\n",
       "| &lt;head&gt;                                                                    |\n",
       "| &lt;meta charset=\"UTF-8\" /&gt;                                                  |\n",
       "| &lt;meta name=\"viewport\" content=\"width=device-width, initial-scale=1.0\" /&gt;  |\n",
       "| &lt;meta name=\"description\" content=\"Discover datasets around the world!\" /&gt; |\n",
       "| &lt;link rel=\"icon\" href=\"/favicon.ico\" /&gt;                                   |\n",
       "\n"
      ],
      "text/plain": [
       "  <!DOCTYPE html>                                                          \n",
       "1 <html lang=\"en\" data-theme=\"light\">                                      \n",
       "2 <head>                                                                   \n",
       "3 <meta charset=\"UTF-8\" />                                                 \n",
       "4 <meta name=\"viewport\" content=\"width=device-width, initial-scale=1.0\" /> \n",
       "5 <meta name=\"description\" content=\"Discover datasets around the world!\" />\n",
       "6 <link rel=\"icon\" href=\"/favicon.ico\" />                                  "
      ]
     },
     "metadata": {},
     "output_type": "display_data"
    }
   ],
   "source": [
    "library(readr)\n",
    "\n",
    " heart_data <- read_csv(\"https://archive.ics.uci.edu/dataset/45/heart+disease\")\n",
    " head(heart_data)"
   ]
  },
  {
   "cell_type": "code",
   "execution_count": 4,
   "id": "48158cec-2c59-4ae9-bfdc-4220a0eb0eb3",
   "metadata": {},
   "outputs": [],
   "source": [
    "## Preliminary exploratory data analysis:\n",
    "\n",
    "\n",
    "## Methods:\n",
    "\n",
    "\n",
    "## Expected Outcomes and Predicitions "
   ]
  },
  {
   "cell_type": "code",
   "execution_count": null,
   "id": "6e06f372-2d63-4703-a698-25ef2f278765",
   "metadata": {},
   "outputs": [],
   "source": []
  }
 ],
 "metadata": {
  "kernelspec": {
   "display_name": "R",
   "language": "R",
   "name": "ir"
  },
  "language_info": {
   "codemirror_mode": "r",
   "file_extension": ".r",
   "mimetype": "text/x-r-source",
   "name": "R",
   "pygments_lexer": "r",
   "version": "4.3.1"
  },
  "nbdime-conflicts": {
   "local_diff": [
    {
     "key": "kernelspec",
     "op": "add",
     "value": {
      "display_name": "",
      "name": ""
     }
    },
    {
     "key": "language_info",
     "op": "add",
     "value": {
      "name": ""
     }
    }
   ],
   "remote_diff": [
    {
     "key": "kernelspec",
     "op": "add",
     "value": {
      "display_name": "R",
      "language": "R",
      "name": "ir"
     }
    },
    {
     "key": "language_info",
     "op": "add",
     "value": {
      "codemirror_mode": "r",
      "file_extension": ".r",
      "mimetype": "text/x-r-source",
      "name": "R",
      "pygments_lexer": "r",
      "version": "4.3.1"
     }
    }
   ]
  }
 },
 "nbformat": 4,
 "nbformat_minor": 5
}
